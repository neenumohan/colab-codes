{
  "nbformat": 4,
  "nbformat_minor": 0,
  "metadata": {
    "colab": {
      "name": "malayalam test.ipynb",
      "provenance": [],
      "authorship_tag": "ABX9TyOsIyXkVJygzR7YVXb8Ntsu",
      "include_colab_link": true
    },
    "kernelspec": {
      "name": "python3",
      "display_name": "Python 3"
    },
    "language_info": {
      "name": "python"
    }
  },
  "cells": [
    {
      "cell_type": "markdown",
      "metadata": {
        "id": "view-in-github",
        "colab_type": "text"
      },
      "source": [
        "<a href=\"https://colab.research.google.com/github/neenumohan/colab-codes/blob/main/malayalam_test.ipynb\" target=\"_parent\"><img src=\"https://colab.research.google.com/assets/colab-badge.svg\" alt=\"Open In Colab\"/></a>"
      ]
    },
    {
      "cell_type": "code",
      "execution_count": null,
      "metadata": {
        "colab": {
          "base_uri": "https://localhost:8080/"
        },
        "id": "7XXohgkQtpxk",
        "outputId": "bba6b7a5-0254-4e82-c50f-9d36b224bfd8"
      },
      "outputs": [
        {
          "name": "stdout",
          "output_type": "stream",
          "text": [
            "പൂച്ച കൽക്കണ്ടും കണ്ടു\n",
            "\n",
            "െൊജൊവ് കൽക്കണ്ടും തിന്നു\n",
            "\n",
            "ആന പഴും തിന്നുരമൊ?\n",
            "\n",
            "മുഖ്യമന്ത്രി കൽക്കണ്ടും വർജിച്ചു\n",
            "\n",
            "പൂച്ച ടപര ൊട്ട ആവശയടപട്ടു\n",
            "m\n"
          ]
        }
      ],
      "source": [
        "import random\n",
        "objects=[ 'തത്തമ്മ', 'ആന', 'പൂച്ച', 'മുഖ്യമന്ത്രി', 'െൊജൊവ്' , 'മന്ത്രി' ]\n",
        "subjects=[ 'പഴും', 'കൽക്കണ്ടും', 'ടപര ൊട്ട' , 'കെല', 'ശർക്കെ' ]\n",
        "verbs=[ 'തിന്നു', 'കണ്ടു', 'ആവശയടപട്ടു' , 'തിന്നുരമൊ?', 'വർജിച്ചു' ]\n",
        "while(True):\n",
        "  print(random.choice(objects)+ \" \" + random.choice(subjects)+ \" \" + random.choice(verbs))\n",
        "  x=input()\n",
        "  if x!=\"\":break"
      ]
    },
    {
      "cell_type": "code",
      "source": [
        "x=['p','y','t','h','o','n']\n",
        "y=enumerate(x)\n",
        "for i, j in y:\n",
        "  print (i,j)"
      ],
      "metadata": {
        "colab": {
          "base_uri": "https://localhost:8080/"
        },
        "id": "EhinNqbvfD2h",
        "outputId": "b45d0260-64fd-4680-a6f0-da482e60529d"
      },
      "execution_count": 2,
      "outputs": [
        {
          "output_type": "stream",
          "name": "stdout",
          "text": [
            "0 p\n",
            "1 y\n",
            "2 t\n",
            "3 h\n",
            "4 o\n",
            "5 n\n"
          ]
        }
      ]
    }
  ]
}